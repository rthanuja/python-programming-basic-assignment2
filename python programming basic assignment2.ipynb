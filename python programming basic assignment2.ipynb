{
 "cells": [
  {
   "cell_type": "code",
   "execution_count": 1,
   "id": "9711b942",
   "metadata": {},
   "outputs": [
    {
     "name": "stdout",
     "output_type": "stream",
     "text": [
      "enter the distance in kilometers56\n",
      "the distance in miles is 34.79672\n"
     ]
    }
   ],
   "source": [
    "#1. Write a Python program to convert kilometers to miles?\n",
    "a=int(input(\"enter the distance in kilometers\"))\n",
    "b=0.62137*a\n",
    "print(\"the distance in miles is\",b)\n"
   ]
  },
  {
   "cell_type": "code",
   "execution_count": 3,
   "id": "da87c97b",
   "metadata": {},
   "outputs": [
    {
     "name": "stdout",
     "output_type": "stream",
     "text": [
      "enter the temperature in celsius35.5\n",
      "the temperature in fahrenheit is 95.9\n"
     ]
    }
   ],
   "source": [
    "#2. Write a Python program to convert Celsius to Fahrenheit?\n",
    "a=float(input(\"enter the temperature in celsius\"))\n",
    "b=(a*(9/5))+32\n",
    "print(\"the temperature in fahrenheit is\",b)"
   ]
  },
  {
   "cell_type": "code",
   "execution_count": 7,
   "id": "fcbbc63f",
   "metadata": {},
   "outputs": [
    {
     "name": "stdout",
     "output_type": "stream",
     "text": [
      "enter year2023\n",
      "enter month4\n",
      "     April 2023\n",
      "Mo Tu We Th Fr Sa Su\n",
      "                1  2\n",
      " 3  4  5  6  7  8  9\n",
      "10 11 12 13 14 15 16\n",
      "17 18 19 20 21 22 23\n",
      "24 25 26 27 28 29 30\n",
      "\n"
     ]
    }
   ],
   "source": [
    "#3. Write a Python program to display calendar?\n",
    "import calendar\n",
    "year=int(input(\"enter year\"))\n",
    "month=int(input(\"enter month\"))\n",
    "print(calendar.month(year,month))"
   ]
  },
  {
   "cell_type": "code",
   "execution_count": 13,
   "id": "080f74c1",
   "metadata": {},
   "outputs": [
    {
     "name": "stdout",
     "output_type": "stream",
     "text": [
      "enter a,b,c in ax^2+bx+c 1 -8 15\n",
      "the roots of the equation are 5.0 3.0\n"
     ]
    }
   ],
   "source": [
    "#4. Write a Python program to solve quadratic equation?\n",
    "a,b,c=map(float,input(\"enter a,b,c in ax^2+bx+c \").split())\n",
    "\n",
    "e=(-b+((b**2-4*a*c)**(1/2)))/(2*a)\n",
    "d=(-b-((b**2-4*a*c)**(1/2)))/(2*a)\n",
    "print(\"the roots of the equation are\",e,d)"
   ]
  },
  {
   "cell_type": "code",
   "execution_count": 14,
   "id": "ffa4cbee",
   "metadata": {},
   "outputs": [
    {
     "name": "stdout",
     "output_type": "stream",
     "text": [
      "a 5 \n",
      "b 6\n",
      "a= 6\n",
      "b= 5\n"
     ]
    }
   ],
   "source": [
    "#5. Write a Python program to swap two variables without temp variable?\n",
    "a=int(input(\"a \"))\n",
    "b=int(input(\"b \"))\n",
    "a,b=b,a\n",
    "print(\"a=\",a)\n",
    "print(\"b=\",b)"
   ]
  }
 ],
 "metadata": {
  "kernelspec": {
   "display_name": "Python 3 (ipykernel)",
   "language": "python",
   "name": "python3"
  },
  "language_info": {
   "codemirror_mode": {
    "name": "ipython",
    "version": 3
   },
   "file_extension": ".py",
   "mimetype": "text/x-python",
   "name": "python",
   "nbconvert_exporter": "python",
   "pygments_lexer": "ipython3",
   "version": "3.10.9"
  }
 },
 "nbformat": 4,
 "nbformat_minor": 5
}
